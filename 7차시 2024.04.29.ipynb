{
  "nbformat": 4,
  "nbformat_minor": 0,
  "metadata": {
    "colab": {
      "provenance": [],
      "authorship_tag": "ABX9TyO51mzm/iFn4e0tgprL/rxO",
      "include_colab_link": true
    },
    "kernelspec": {
      "name": "python3",
      "display_name": "Python 3"
    },
    "language_info": {
      "name": "python"
    }
  },
  "cells": [
    {
      "cell_type": "markdown",
      "metadata": {
        "id": "view-in-github",
        "colab_type": "text"
      },
      "source": [
        "<a href=\"https://colab.research.google.com/github/Yun-Haeng-JO/Python/blob/main/7%EC%B0%A8%EC%8B%9C%202024.04.29.ipynb\" target=\"_parent\"><img src=\"https://colab.research.google.com/assets/colab-badge.svg\" alt=\"Open In Colab\"/></a>"
      ]
    },
    {
      "cell_type": "code",
      "execution_count": null,
      "metadata": {
        "id": "8xi9e4QYo3FI"
      },
      "outputs": [],
      "source": [
        "#1\n",
        "name = 'LeeMinJun'\n",
        "phone = '010 xxxx xxxx'\n",
        "address = 'korea'\n",
        "print(len(name)) #9\n",
        "print(len(phone)) #13\n",
        "print(len(address)) #5\n",
        ""
      ]
    },
    {
      "cell_type": "code",
      "source": [
        "#3-1\n",
        "a = [1, 2, 3]\n",
        "print(min(a))\n",
        ""
      ],
      "metadata": {
        "id": "MFRRNrI2o9u5"
      },
      "execution_count": null,
      "outputs": []
    },
    {
      "cell_type": "code",
      "source": [
        "#3-2\n",
        "b = 'LeeMinJun'\n",
        "print(min(b))\n",
        "\n"
      ],
      "metadata": {
        "id": "5XFM-JaFo-xA"
      },
      "execution_count": null,
      "outputs": []
    },
    {
      "cell_type": "code",
      "source": [
        "#3-3\n",
        "c = 1\n",
        "print(min(c))"
      ],
      "metadata": {
        "id": "qqvridKro_qp"
      },
      "execution_count": null,
      "outputs": []
    },
    {
      "cell_type": "code",
      "source": [
        "#3-4\n",
        "d = (6, 5, 4, 2)\n",
        "print(min(d))\n",
        ""
      ],
      "metadata": {
        "id": "zpig41s3pAmR"
      },
      "execution_count": null,
      "outputs": []
    },
    {
      "cell_type": "code",
      "source": [
        "#3-5\n",
        "e = [3, 4, 5, 'a', 'b', 'c']"
      ],
      "metadata": {
        "id": "HQi_lUZxpChI"
      },
      "execution_count": null,
      "outputs": []
    },
    {
      "cell_type": "code",
      "source": [
        "#3-6\n",
        "a = [1, 2, 3] # 리스트\n",
        "b = [4, 5, 6]\n",
        "print(min(a, b))"
      ],
      "metadata": {
        "id": "ucNyMGLGpDaC"
      },
      "execution_count": null,
      "outputs": []
    },
    {
      "cell_type": "code",
      "source": [
        "#3-7\n",
        "c = 'BlockdMask' # 문자열\n",
        "d = 'BAAAlockDMask'\n",
        "print(min(c, d))"
      ],
      "metadata": {
        "id": "fJ2JA5GSpEV6"
      },
      "execution_count": null,
      "outputs": []
    },
    {
      "cell_type": "code",
      "source": [
        "#3-8\n",
        "e = [3, 2, 1] # 타입이 다른 경우\n",
        "f = ['a', 3, 2, 1]\n",
        "print(min(e, f))"
      ],
      "metadata": {
        "id": "Dk153pHNpFaA"
      },
      "execution_count": null,
      "outputs": []
    },
    {
      "cell_type": "code",
      "source": [
        "#3-9\n",
        "g = [2, 3, 4]\n",
        "h = [2, 2, 2, 2, 2]\n",
        "i = [9, 8, 7, 6, 5]\n",
        "j = [1]\n",
        "k = [0]\n",
        "print(min(g, h, i, j, k))"
      ],
      "metadata": {
        "id": "nL76fP6dpGci"
      },
      "execution_count": null,
      "outputs": []
    },
    {
      "cell_type": "code",
      "source": [
        "#4-1\n",
        "myString = \"everdevel\"\n",
        "print(myString.count('e'))"
      ],
      "metadata": {
        "id": "SMb0rGaspH4I"
      },
      "execution_count": null,
      "outputs": []
    },
    {
      "cell_type": "code",
      "source": [
        "#4-2\n",
        "# 문자열 'BlockDMask' 선언\n",
        "a = 'BlockDMask'\n",
        "\n",
        "# 문자열에서  'k' 가 몇개 있는 지?\n",
        "print('#1 a.count(\"k\")')\n",
        "print(a.count('k')) # 문자열에서 'DM'가 몇개 있는지?\n",
        "print('#2 a.count(\"DM\")')\n",
        "print(a.count('DM'))"
      ],
      "metadata": {
        "id": "rWr-a7C8pI4a"
      },
      "execution_count": null,
      "outputs": []
    },
    {
      "cell_type": "code",
      "source": [
        "#4-3\n",
        "# 문자열에서 특정 범위 내부에 'k' 가 몇개 있는지?\n",
        "# B l o c k D M a s k 에서 index를 표기해보면\n",
        "# 0 1 2 3 4 5 6 7 8 9 입니다.\n",
        "print(\"#3 a[2] + ' ~ ' + a[4]\")\n",
        "print(a[2] + ' ~ ' + a[4])\n",
        "print(\"#4 a.count('k', 2, 3)\")\n",
        "print(a.count('k', 2, 3))\n",
        "print(\"#5 a.count('k', 2, 4)\")\n",
        "print(a.count('k', 2, 4))\n",
        "print(\"#6 a.count('k', 2, 5)\")\n",
        "print(a.count('k', 2, 5))"
      ],
      "metadata": {
        "id": "gDLmbJv2pKCS"
      },
      "execution_count": null,
      "outputs": []
    },
    {
      "cell_type": "code",
      "source": [
        "#5-1\n",
        "str= \"BlockDMask Blog.\";\n",
        "print(f\"str : {str}\\n\")\n",
        "\n",
        "# find 예제1\n",
        "print(\"1. str.find('찾을 문자')\")\n",
        "result1 = str.find( 'a')\n",
        "\n",
        "# 문자가 있는 경우\n",
        "result2 = str.find('Z')\n",
        "\n",
        "# 문자가 없는 경우\n",
        "print(f\"str.find('a') : {result1}\")\n",
        "print(f\"str.find('Z') : {result2}\")\n",
        "result3 = str.find('ask')"
      ],
      "metadata": {
        "id": "qIqRtacZpLqG"
      },
      "execution_count": null,
      "outputs": []
    },
    {
      "cell_type": "code",
      "source": [
        "#5-2\n",
        "# 문자열이 있는 경우\n",
        "result4 = str.find('kkk')\n",
        "# 문자열이 없는 경우\n",
        "print(f\"str.find('ask') : {result3}\")\n",
        "print(f\"str.find('kkk') : {result4}\")\n",
        "print()\n",
        "\n",
        "# find 예제2\n",
        "print(\"2. str.find('찾을 문자', 시작index)\")\n",
        "result5 = str.find('o')\n",
        "result6 = str.find('o', 5)\n",
        "print(f\"str.find('o') : {result5}\")\n",
        "print(f\"str[5] : {str[5]}\")\n",
        "print(f\"str.find('o', 5) : {result6}\")\n",
        "print()"
      ],
      "metadata": {
        "id": "ID3hqh87pM_f"
      },
      "execution_count": null,
      "outputs": []
    },
    {
      "cell_type": "code",
      "source": [
        "#5-3\n",
        "# find 예제3\n",
        "print(\"3. str.find('찾을 문자', 시작 index, 끝 index)\")\n",
        "result7 = str.find('o')\n",
        "result8 = str.find('o', 5, 11)\n",
        "\n",
        "\n",
        "# \"DMask B\"\n",
        "print(f\"str.find('o') : {result7}\")\n",
        "print(f\"str[5]~str[11] : {str[5]} ~ {str[11]}\")\n",
        "print(f\"str.find('o', 5, 11) : {result8}\")"
      ],
      "metadata": {
        "id": "BkxscTKUpOVX"
      },
      "execution_count": null,
      "outputs": []
    },
    {
      "cell_type": "code",
      "source": [
        "#5-4\n",
        "# find 예제3\n",
        "print(\"3. str.find('찾을 문자', 시작 index, 끝 index)\")\n",
        "result7 = str.find('o')\n",
        "result8 = str.find('o', 5, 11)\n",
        "\n",
        "\n",
        "# \"DMask B\"\n",
        "print(f\"str.find('o') : {result7}\")\n",
        "print(f\"str[5]~str[11] : {str[5]} ~ {str[11]}\")\n",
        "print(f\"str.find('o', 5, 11) : {result8}\")"
      ],
      "metadata": {
        "id": "swsEAppgpPtA"
      },
      "execution_count": null,
      "outputs": []
    },
    {
      "cell_type": "code",
      "source": [
        "#6\n",
        "str = 'Hello world, Python!'\n",
        "\n",
        "if str.startswith('Hello'):\n",
        "    print('It starts with Hello')\n",
        "\n",
        "if not str.startswith('Python'):\n",
        "    print('It does not start with Python')\n",
        ""
      ],
      "metadata": {
        "id": "b3X8ZBJtpQwi"
      },
      "execution_count": null,
      "outputs": []
    },
    {
      "cell_type": "code",
      "source": [
        "#7\n",
        "str = \"this is string example....wow!!!\"\n",
        "\n",
        "suffix = \"wow!!!\"\n",
        "print(str.endswith(suffix))\n",
        "print(str.endswith(suffix,20))\n",
        "\n",
        "suffix = \"is\"\n",
        "print(str.endswith(suffix, 2, 4))\n",
        "print(str.endswith(suffix, 2, 6))"
      ],
      "metadata": {
        "id": "k1tVIQkIpR3w"
      },
      "execution_count": null,
      "outputs": []
    },
    {
      "cell_type": "code",
      "source": [
        "#8\n",
        "text = 'Welcome to Codetorial'\n",
        "\n",
        "pos_e_last = text.rfind('e')\n",
        "print(pos_e_last)\n",
        "\n",
        "pos_e_first = text.find('e')\n",
        "print(pos_e_first)\n",
        "\n",
        "pos_to_last = text.rfind('to')\n",
        "print(pos_to_last)\n",
        "\n",
        "pos_to_first = text.find('to')\n",
        "print(pos_to_first)"
      ],
      "metadata": {
        "id": "rvUBE0ympS03"
      },
      "execution_count": null,
      "outputs": []
    },
    {
      "cell_type": "code",
      "source": [
        "#9-1\n",
        "a = [123, 421, 212, 11, 24, 102, 29, 92, 10]\n",
        "print(a.index(212))\n",
        ""
      ],
      "metadata": {
        "id": "4IdgdcKVpTzh"
      },
      "execution_count": null,
      "outputs": []
    },
    {
      "cell_type": "code",
      "source": [
        "#9-2\n",
        "# 리스트.index(x)\n",
        "# 데이터 x의 위치 반환\n",
        "nums_list = [1,2,3,3,3,5,6,8,9]\n",
        "nums_tuple = (1,2,3,3,3,5,6,8,9)\n",
        "nums_set = {1,2,3,5,6,8,9}\n",
        "\n",
        "print(nums_list.index(2))  # 1\n",
        "print(nums_list.index(3))  # 2\n",
        "# -> 찾고자하는 데이터가 여러개 존재할 경우, 가장 작은 위치 값 반환\n",
        "\n",
        "print(nums_tuple.index(2)) # 1\n",
        "print(nums_tuple.index(3)) # 2"
      ],
      "metadata": {
        "id": "eEA_VW1mpUwX"
      },
      "execution_count": null,
      "outputs": []
    },
    {
      "cell_type": "code",
      "source": [
        "#9-3\n",
        "#문자열에서 사용\n",
        "str = 'kangminheee'\n",
        "print(str.index('k'))  #0\n",
        "print(str.index('h'))  #7\n",
        "print(str.index('i'))  #5\n",
        "#print(str.index('l')) 없는 걸 찾으면 error\n",
        "print(str.index('e'))  #8 -> 여러개면 제일 첫번째것 반환\n",
        "print(str.find('e'))   #8 -> find()는 index()와 같은 기능을 가진 함수\n",
        "print(str.rfind('e'))  #10 -> 여러개중 가장 오른쪽 것 반환\n",
        ""
      ],
      "metadata": {
        "id": "TjDbcgLkpV8H"
      },
      "execution_count": null,
      "outputs": []
    },
    {
      "cell_type": "code",
      "source": [
        "#11-1\n",
        "hz = \"홈짱닷컴 Homzzang.com\"\n",
        "\n",
        "x = hz.rindex(\"Homzzang\")\n",
        "\n",
        "print(x)\n",
        "\n",
        "x = hz.rindex(\"o\", 2)\n",
        "print(x)"
      ],
      "metadata": {
        "id": "FF7cri0xpW04"
      },
      "execution_count": null,
      "outputs": []
    },
    {
      "cell_type": "code",
      "source": [
        "#11-2\n",
        "text = 'Welcome to Codetorial'\n",
        "\n",
        "pos_Code_last = text.rindex('Code')\n",
        "print(pos_Code_last)\n",
        "\n",
        "pos_Code_last = text.rindex('Code')\n",
        "print(pos_Code_last)"
      ],
      "metadata": {
        "id": "cjkassU6pXzh"
      },
      "execution_count": null,
      "outputs": []
    }
  ]
}