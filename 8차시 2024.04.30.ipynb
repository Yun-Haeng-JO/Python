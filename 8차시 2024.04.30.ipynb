{
  "nbformat": 4,
  "nbformat_minor": 0,
  "metadata": {
    "colab": {
      "provenance": [],
      "authorship_tag": "ABX9TyN0KVK8ELwAoqwsCgSzjpuX",
      "include_colab_link": true
    },
    "kernelspec": {
      "name": "python3",
      "display_name": "Python 3"
    },
    "language_info": {
      "name": "python"
    }
  },
  "cells": [
    {
      "cell_type": "markdown",
      "metadata": {
        "id": "view-in-github",
        "colab_type": "text"
      },
      "source": [
        "<a href=\"https://colab.research.google.com/github/Yun-Haeng-JO/Python/blob/main/8%EC%B0%A8%EC%8B%9C%202024.04.30.ipynb\" target=\"_parent\"><img src=\"https://colab.research.google.com/assets/colab-badge.svg\" alt=\"Open In Colab\"/></a>"
      ]
    },
    {
      "cell_type": "code",
      "execution_count": 1,
      "metadata": {
        "colab": {
          "base_uri": "https://localhost:8080/"
        },
        "id": "znRYZCpwuw69",
        "outputId": "4d23037a-28c2-4608-a0b2-18c37aeaa98c"
      },
      "outputs": [
        {
          "output_type": "stream",
          "name": "stdout",
          "text": [
            "True\n",
            "True\n",
            "False\n",
            "False\n",
            "True\n",
            "True\n"
          ]
        }
      ],
      "source": [
        "#1\n",
        "text1 = \"네이스123\"\n",
        "text2 = \"123123\"\n",
        "text3 = \"!@#$\"\n",
        "text4 = \"!@#$1234\"\n",
        "text5 = \"wtf\"\n",
        "text6 = \"wtf123123\"\n",
        "print(text1.isalnum())\n",
        "print(text2.isalnum())\n",
        "print(text3.isalnum())\n",
        "print(text4.isalnum())\n",
        "print(text5.isalnum())\n",
        "print(text6.isalnum())\n",
        ""
      ]
    },
    {
      "cell_type": "code",
      "source": [
        "#2\n",
        "text = \"#^&863274234564543aefde329678&#$%E가나다라\"\n",
        "text1 = \"네이스\"\n",
        "text2 = \"123123\"\n",
        "text3 = \"!@#$\"\n",
        "check = \"\"\n",
        "print(text1.isalpha())\n",
        "print(text2.isalpha())\n",
        "print(text3.isalpha())\n",
        "for i in text:\n",
        "\tif i.isalpha():\n",
        "\t\tcheck += i\n",
        "print(check)"
      ],
      "metadata": {
        "colab": {
          "base_uri": "https://localhost:8080/"
        },
        "id": "NiuVArI_uyiM",
        "outputId": "ccc34c9d-7fd9-46f6-af4a-3f5526b083b6"
      },
      "execution_count": 3,
      "outputs": [
        {
          "output_type": "stream",
          "name": "stdout",
          "text": [
            "True\n",
            "False\n",
            "False\n",
            "aefdeE가나다라\n"
          ]
        }
      ]
    },
    {
      "cell_type": "code",
      "source": [
        "#3\n",
        "a= \"ABCDEFG\" # 문자로만 이루어짐\n",
        "b = \"175cm\" # 문자 + 숫자\n",
        "c = \"12321\" # 숫자\n",
        "d = \"-69\" # 음수\n",
        "e = \"9.87\" # 소수점\n",
        "f = \"3²\" # 3의 2제곱 기호 숫자\n",
        "g = \"⅔\" # 수학 기호 숫자 2/3\n",
        "h = \"0\" # 0\n",
        "i = \"0123\" # 0 으로 시작한 숫자\n",
        "\n",
        "# str.isdigit(\"문자열\")\n",
        "print(f\"str.isdigit('{a}') : {str.isdigit(a)}\")\n",
        "print(f\"str.isdigit('{b}') : {str.isdigit(b)}\")\n",
        "print(f\"str.isdigit('{c}') : {str.isdigit(c)}\")\n",
        "print(f\"str.isdigit('{d}') : {str.isdigit(d)}\")\n",
        "print(f\"str.isdigit('{e}') : {str.isdigit(e)}\")\n",
        "print(f\"str.isdigit('{f}') : {str.isdigit(f)}\")\n",
        "print(f\"str.isdigit('{g}') : {str.isdigit(g)}\")\n",
        "print(f\"str.isdigit('{h}') : {str.isdigit(h)}\")\n",
        "print(f\"str.isdigit('{i}') : {str.isdigit(i)}\")\n",
        "print()\n",
        "\n",
        "# \"문자열\".isdigit()\n",
        "print(f\"'{a}'.isdigit() : {a.isdigit()}\")\n",
        "print(f\"'{b}'.isdigit() : {b.isdigit()}\")\n",
        "print(f\"'{c}'.isdigit() : {c.isdigit()}\")\n",
        "print(f\"'{d}'.isdigit() : {d.isdigit()}\")\n",
        "print(f\"'{e}'.isdigit() : {e.isdigit()}\")\n",
        "print(f\"'{f}'.isdigit() : {f.isdigit()}\")\n",
        "print(f\"'{g}'.isdigit() : {g.isdigit()}\")\n",
        "print(f\"'{h}'.isdigit() : {h.isdigit()}\")\n",
        "print(f\"'{i}'.isdigit() : {i.isdigit()}\")"
      ],
      "metadata": {
        "colab": {
          "base_uri": "https://localhost:8080/"
        },
        "id": "Q42zdJfPu0lC",
        "outputId": "2e5797c0-a77a-47cd-a8de-b2a429755871"
      },
      "execution_count": 4,
      "outputs": [
        {
          "output_type": "stream",
          "name": "stdout",
          "text": [
            "str.isdigit('ABCDEFG') : False\n",
            "str.isdigit('175cm') : False\n",
            "str.isdigit('12321') : True\n",
            "str.isdigit('-69') : False\n",
            "str.isdigit('9.87') : False\n",
            "str.isdigit('3²') : True\n",
            "str.isdigit('⅔') : False\n",
            "str.isdigit('0') : True\n",
            "str.isdigit('0123') : True\n",
            "\n",
            "'ABCDEFG'.isdigit() : False\n",
            "'175cm'.isdigit() : False\n",
            "'12321'.isdigit() : True\n",
            "'-69'.isdigit() : False\n",
            "'9.87'.isdigit() : False\n",
            "'3²'.isdigit() : True\n",
            "'⅔'.isdigit() : False\n",
            "'0'.isdigit() : True\n",
            "'0123'.isdigit() : True\n"
          ]
        }
      ]
    },
    {
      "cell_type": "code",
      "source": [
        "#4-1\n",
        "a = '12345678'\n",
        "print(a.isdigit())\n",
        "print(a.isdecimal())\n",
        "print(a.isnumeric())"
      ],
      "metadata": {
        "colab": {
          "base_uri": "https://localhost:8080/"
        },
        "id": "34vtEOawvKJa",
        "outputId": "e5d4e9e2-0545-471a-eb72-c330eda576dc"
      },
      "execution_count": 5,
      "outputs": [
        {
          "output_type": "stream",
          "name": "stdout",
          "text": [
            "True\n",
            "True\n",
            "True\n"
          ]
        }
      ]
    },
    {
      "cell_type": "code",
      "source": [
        "#4-2\n",
        "x = '3²'\n",
        "print(x.isdigit())\n",
        "# True\n",
        "print(x.isdecimal())\n",
        "# False\n",
        "print(x.isnumeric())\n",
        "int(x)\n",
        "# ERROR!!!!"
      ],
      "metadata": {
        "colab": {
          "base_uri": "https://localhost:8080/",
          "height": 257
        },
        "id": "TkLBl6BJvNPB",
        "outputId": "432d2811-61d7-4a24-871d-e23e7e4e434e"
      },
      "execution_count": 6,
      "outputs": [
        {
          "output_type": "stream",
          "name": "stdout",
          "text": [
            "True\n",
            "False\n",
            "True\n"
          ]
        },
        {
          "output_type": "error",
          "ename": "ValueError",
          "evalue": "invalid literal for int() with base 10: '3²'",
          "traceback": [
            "\u001b[0;31m---------------------------------------------------------------------------\u001b[0m",
            "\u001b[0;31mValueError\u001b[0m                                Traceback (most recent call last)",
            "\u001b[0;32m<ipython-input-6-7dc2d7fef6f0>\u001b[0m in \u001b[0;36m<cell line: 8>\u001b[0;34m()\u001b[0m\n\u001b[1;32m      6\u001b[0m \u001b[0;31m# False\u001b[0m\u001b[0;34m\u001b[0m\u001b[0;34m\u001b[0m\u001b[0m\n\u001b[1;32m      7\u001b[0m \u001b[0mprint\u001b[0m\u001b[0;34m(\u001b[0m\u001b[0mx\u001b[0m\u001b[0;34m.\u001b[0m\u001b[0misnumeric\u001b[0m\u001b[0;34m(\u001b[0m\u001b[0;34m)\u001b[0m\u001b[0;34m)\u001b[0m\u001b[0;34m\u001b[0m\u001b[0;34m\u001b[0m\u001b[0m\n\u001b[0;32m----> 8\u001b[0;31m \u001b[0mint\u001b[0m\u001b[0;34m(\u001b[0m\u001b[0mx\u001b[0m\u001b[0;34m)\u001b[0m\u001b[0;34m\u001b[0m\u001b[0;34m\u001b[0m\u001b[0m\n\u001b[0m\u001b[1;32m      9\u001b[0m \u001b[0;31m# ERROR!!!!\u001b[0m\u001b[0;34m\u001b[0m\u001b[0;34m\u001b[0m\u001b[0m\n",
            "\u001b[0;31mValueError\u001b[0m: invalid literal for int() with base 10: '3²'"
          ]
        }
      ]
    },
    {
      "cell_type": "code",
      "source": [
        "#5-1\n",
        "a = \"I Love halla\"\n",
        "\n",
        "print( a.islower() )\n",
        "print( a.isupper() )\n",
        "print( a.upper() )\n",
        "print( a.lower() )"
      ],
      "metadata": {
        "colab": {
          "base_uri": "https://localhost:8080/"
        },
        "id": "kwOZH1bOvPVS",
        "outputId": "5abd16a1-cb9f-454f-858a-543d792c622f"
      },
      "execution_count": 7,
      "outputs": [
        {
          "output_type": "stream",
          "name": "stdout",
          "text": [
            "False\n",
            "False\n",
            "I LOVE HALLA\n",
            "i love halla\n"
          ]
        }
      ]
    },
    {
      "cell_type": "code",
      "source": [
        "#5-2\n",
        "str = \"THIS is halla!!!\"\n",
        "print(str.islower())\n",
        "\n",
        "str = \"this is halla!!!\"\n",
        "print (str.islower())"
      ],
      "metadata": {
        "colab": {
          "base_uri": "https://localhost:8080/"
        },
        "id": "Xw6iz_7Ovh1n",
        "outputId": "09e144d1-2eaa-4d4c-a2d5-f84e00615c96"
      },
      "execution_count": 8,
      "outputs": [
        {
          "output_type": "stream",
          "name": "stdout",
          "text": [
            "False\n",
            "True\n"
          ]
        }
      ]
    },
    {
      "cell_type": "code",
      "source": [
        "#6\n",
        "str = \"this is halla!!!\"\n",
        "print(str.swapcase() )\n",
        "\n",
        "str = \"THIS IS halla!!!\"\n",
        "print( str.swapcase())"
      ],
      "metadata": {
        "colab": {
          "base_uri": "https://localhost:8080/"
        },
        "id": "iV2VKqj7vnu4",
        "outputId": "e9608962-8e7f-4a5a-e020-0863cc8b4acd"
      },
      "execution_count": 9,
      "outputs": [
        {
          "output_type": "stream",
          "name": "stdout",
          "text": [
            "THIS IS HALLA!!!\n",
            "this is HALLA!!!\n"
          ]
        }
      ]
    },
    {
      "cell_type": "code",
      "source": [
        "#7-1\n",
        "str = \"This Is halla!!!\"\n",
        "print( str.istitle() )\n",
        "\n",
        "str = \"This is halla!!!\"\n",
        "print( str.istitle() )"
      ],
      "metadata": {
        "colab": {
          "base_uri": "https://localhost:8080/"
        },
        "id": "8ZQT2oYjvrrv",
        "outputId": "812fd5e3-6ddb-46cf-8c01-cb8d8039f515"
      },
      "execution_count": 10,
      "outputs": [
        {
          "output_type": "stream",
          "name": "stdout",
          "text": [
            "False\n",
            "False\n"
          ]
        }
      ]
    },
    {
      "cell_type": "code",
      "source": [
        "#7-2\n",
        "str = \"This is halla!!!\"\n",
        "print( str.title() )"
      ],
      "metadata": {
        "colab": {
          "base_uri": "https://localhost:8080/"
        },
        "id": "EDLKQlGlvwtI",
        "outputId": "abd0c0c9-2344-46d9-8b4c-6d290e0cd93f"
      },
      "execution_count": 11,
      "outputs": [
        {
          "output_type": "stream",
          "name": "stdout",
          "text": [
            "This Is Halla!!!\n"
          ]
        }
      ]
    },
    {
      "cell_type": "code",
      "source": [
        "#8\n",
        "print ( 'halla!!!'.capitalize() )\n",
        "print ( 'HALLA!!!!'.capitalize() )\n",
        ""
      ],
      "metadata": {
        "colab": {
          "base_uri": "https://localhost:8080/"
        },
        "id": "4zHnB-2qv0K2",
        "outputId": "339572d5-e2e5-4ba8-e5cb-63df64aac39d"
      },
      "execution_count": 12,
      "outputs": [
        {
          "output_type": "stream",
          "name": "stdout",
          "text": [
            "Halla!!!\n",
            "Halla!!!!\n"
          ]
        }
      ]
    }
  ]
}