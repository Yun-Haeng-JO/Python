{
  "nbformat": 4,
  "nbformat_minor": 0,
  "metadata": {
    "colab": {
      "provenance": [],
      "authorship_tag": "ABX9TyOgxdj2oXSzQMTtWhXP+lfF",
      "include_colab_link": true
    },
    "kernelspec": {
      "name": "python3",
      "display_name": "Python 3"
    },
    "language_info": {
      "name": "python"
    }
  },
  "cells": [
    {
      "cell_type": "markdown",
      "metadata": {
        "id": "view-in-github",
        "colab_type": "text"
      },
      "source": [
        "<a href=\"https://colab.research.google.com/github/Yun-Haeng-JO/Python/blob/main/10%EC%B0%A8%EC%8B%9C%202024.05.02.ipynb\" target=\"_parent\"><img src=\"https://colab.research.google.com/assets/colab-badge.svg\" alt=\"Open In Colab\"/></a>"
      ]
    },
    {
      "cell_type": "code",
      "execution_count": 1,
      "metadata": {
        "colab": {
          "base_uri": "https://localhost:8080/"
        },
        "id": "oeoBeyEqSE5A",
        "outputId": "8db92ae0-c77f-4d07-c419-9bdc814d9168"
      },
      "outputs": [
        {
          "output_type": "stream",
          "name": "stdout",
          "text": [
            "BlockDMask\n",
            "BlockDMask\n",
            "BlockDMask\n",
            "BlockDMask\n",
            "BlockDMask\n",
            "BlockDMask\n",
            "1 곱하기 2 = 3\n",
            "1 곱하기 3 = 4\n",
            "2 곱하기 4 = 6\n"
          ]
        }
      ],
      "source": [
        "def func1():\n",
        "    print('BlockDMask')\n",
        "\n",
        "#함수 호출\n",
        "func1()\n",
        "func1()\n",
        "func1()\n",
        "\n",
        "for i in range(3):\n",
        "    func1()\n",
        "\n",
        "def func2(a,b):\n",
        "    print(f'{a} 곱하기 {b} = {a+b}')\n",
        "\n",
        "#함수 호출\n",
        "func2(1,2)\n",
        "func2(1,3)\n",
        "func2(2,4)"
      ]
    },
    {
      "cell_type": "code",
      "source": [
        "def func3():\n",
        "    return \"abcdefg\"\n",
        "\n",
        "#함수 호출\n",
        "\n",
        "a=func3()\n",
        "print(a,\"GG\", sep=\" \" )\n",
        ""
      ],
      "metadata": {
        "colab": {
          "base_uri": "https://localhost:8080/"
        },
        "id": "hgzE3GruSI2I",
        "outputId": "ebbe14ad-7bd5-4518-bdaf-d81b4c9be641"
      },
      "execution_count": 2,
      "outputs": [
        {
          "output_type": "stream",
          "name": "stdout",
          "text": [
            "abcdefg GG\n"
          ]
        }
      ]
    },
    {
      "cell_type": "code",
      "source": [
        "def func4(a,b):\n",
        "    return a*b\n",
        "\n",
        "#함수 호출\n",
        "a=input()\n",
        "c=func4(int(a),9)\n",
        "print(c)"
      ],
      "metadata": {
        "colab": {
          "base_uri": "https://localhost:8080/"
        },
        "id": "6vsZMFUwSKfQ",
        "outputId": "d2e5ce1b-a954-4f0d-e6b7-040f79507ace"
      },
      "execution_count": 3,
      "outputs": [
        {
          "output_type": "stream",
          "name": "stdout",
          "text": [
            "3\n",
            "27\n"
          ]
        }
      ]
    },
    {
      "cell_type": "code",
      "source": [
        "for i in range(1,10):\n",
        "    print(f'{2}x{i} = {2*i}')\n",
        "for i in range(1,10):\n",
        "    print(f'{3}x{i} = {3*i}')\n",
        "\n",
        "print()\n",
        "print()\n",
        "print()\n",
        "\n",
        "def gugudan(num):\n",
        "    for i in range(1,10):\n",
        "        print(f'{num}x{i}={num*i}')\n",
        "    print()\n",
        "#구구단 출력\n",
        "gugudan(2)\n",
        "\n",
        "gugudan(2)"
      ],
      "metadata": {
        "colab": {
          "base_uri": "https://localhost:8080/"
        },
        "id": "3ZB1RqjMSLvl",
        "outputId": "cebde4cc-4811-47fd-f2dc-65ed96f3040d"
      },
      "execution_count": 4,
      "outputs": [
        {
          "output_type": "stream",
          "name": "stdout",
          "text": [
            "2x1 = 2\n",
            "2x2 = 4\n",
            "2x3 = 6\n",
            "2x4 = 8\n",
            "2x5 = 10\n",
            "2x6 = 12\n",
            "2x7 = 14\n",
            "2x8 = 16\n",
            "2x9 = 18\n",
            "3x1 = 3\n",
            "3x2 = 6\n",
            "3x3 = 9\n",
            "3x4 = 12\n",
            "3x5 = 15\n",
            "3x6 = 18\n",
            "3x7 = 21\n",
            "3x8 = 24\n",
            "3x9 = 27\n",
            "\n",
            "\n",
            "\n",
            "2x1=2\n",
            "2x2=4\n",
            "2x3=6\n",
            "2x4=8\n",
            "2x5=10\n",
            "2x6=12\n",
            "2x7=14\n",
            "2x8=16\n",
            "2x9=18\n",
            "\n",
            "2x1=2\n",
            "2x2=4\n",
            "2x3=6\n",
            "2x4=8\n",
            "2x5=10\n",
            "2x6=12\n",
            "2x7=14\n",
            "2x8=16\n",
            "2x9=18\n",
            "\n"
          ]
        }
      ]
    },
    {
      "cell_type": "code",
      "source": [
        "#디폴트 파라미터 예제 1\n",
        "def func1(a, b=5, c=10):\n",
        "    return a + b + c\n",
        "\n",
        "func1(1,2,3)\n",
        "func1(1,2)\n",
        "func1(1)"
      ],
      "metadata": {
        "colab": {
          "base_uri": "https://localhost:8080/"
        },
        "id": "01iNSKADSOS-",
        "outputId": "06d516d0-bdb2-495e-96fb-7cd2fe5c3e7c"
      },
      "execution_count": 5,
      "outputs": [
        {
          "output_type": "execute_result",
          "data": {
            "text/plain": [
              "16"
            ]
          },
          "metadata": {},
          "execution_count": 5
        }
      ]
    },
    {
      "cell_type": "code",
      "source": [
        "#디폴트 파라미터 예제 2\n",
        "def func2(a=10, b=20):\n",
        "    return a+b\n",
        "\n",
        "print(func2(1, 2))\n",
        "print(func2(1))\n",
        "print(func2())"
      ],
      "metadata": {
        "colab": {
          "base_uri": "https://localhost:8080/"
        },
        "id": "yTJ9qh37SPpl",
        "outputId": "59251324-62f6-44f0-cb85-c45191ab7ff9"
      },
      "execution_count": 6,
      "outputs": [
        {
          "output_type": "stream",
          "name": "stdout",
          "text": [
            "3\n",
            "21\n",
            "30\n"
          ]
        }
      ]
    },
    {
      "cell_type": "code",
      "source": [
        "#디폴트 파라미터 예제 3 - error\n",
        " def func3(a=10,b,c): #error\n",
        "      return a+b+c\n",
        "func3(1,2)\n",
        "\n",
        "func3(,1,2)\n",
        ""
      ],
      "metadata": {
        "colab": {
          "base_uri": "https://localhost:8080/",
          "height": 110
        },
        "id": "kBb2W8wJSQ6G",
        "outputId": "299538f0-8a6c-4312-d143-143a2b381878"
      },
      "execution_count": 13,
      "outputs": [
        {
          "output_type": "error",
          "ename": "IndentationError",
          "evalue": "unexpected indent (<ipython-input-13-a65c1956aa27>, line 2)",
          "traceback": [
            "\u001b[0;36m  File \u001b[0;32m\"<ipython-input-13-a65c1956aa27>\"\u001b[0;36m, line \u001b[0;32m2\u001b[0m\n\u001b[0;31m    def func3(a=10,b,c): #error\u001b[0m\n\u001b[0m    ^\u001b[0m\n\u001b[0;31mIndentationError\u001b[0m\u001b[0;31m:\u001b[0m unexpected indent\n"
          ]
        }
      ]
    },
    {
      "cell_type": "code",
      "source": [
        "def func6(*args):\n",
        "    a=0\n",
        "    for i in args:\n",
        "        a = a+i\n",
        "    return a\n",
        "\n",
        "b = func6(1,5)\n",
        "print(b)\n",
        "\n",
        "c=func6(2,3,4,5)\n",
        "print(c)\n",
        "\n",
        "d=func6(1,2,3,4,5,4,3,2,1)\n",
        "print(d)\n",
        "\n",
        "e=func6()\n",
        "print(e)"
      ],
      "metadata": {
        "colab": {
          "base_uri": "https://localhost:8080/"
        },
        "id": "gKFEJiOySTFP",
        "outputId": "ea26b563-49c0-4e15-9536-e157bcf89e53"
      },
      "execution_count": 8,
      "outputs": [
        {
          "output_type": "stream",
          "name": "stdout",
          "text": [
            "6\n",
            "14\n",
            "25\n",
            "0\n"
          ]
        }
      ]
    },
    {
      "cell_type": "code",
      "source": [
        "def test(*val):\n",
        "    for i in val:\n",
        "        print(i)\n",
        "\n",
        "test(1,'a','c',3)\n",
        ""
      ],
      "metadata": {
        "colab": {
          "base_uri": "https://localhost:8080/"
        },
        "id": "nQVCn0XNSUie",
        "outputId": "d8314826-b1f2-43e8-d80f-eb928240584e"
      },
      "execution_count": 9,
      "outputs": [
        {
          "output_type": "stream",
          "name": "stdout",
          "text": [
            "1\n",
            "a\n",
            "c\n",
            "3\n"
          ]
        }
      ]
    },
    {
      "cell_type": "code",
      "source": [
        "def sum_mul(choice,*val):\n",
        "    if choice =='sum':\n",
        "        result = 0\n",
        "        for i in val:\n",
        "            result = result + i\n",
        "    elif choice == 'mul':\n",
        "        result = 1\n",
        "        for i in val:\n",
        "            result = result * i\n",
        "    print()\n",
        "    return result\n",
        "\n",
        "print(sum_mul('sum',1,2,3,4,5))\n",
        "\n",
        "print(sum_mul('mul',1,2,3,4,5))\n",
        ""
      ],
      "metadata": {
        "colab": {
          "base_uri": "https://localhost:8080/"
        },
        "id": "-COBQHyYSVuH",
        "outputId": "980a6ee8-17b5-4c71-eb2e-7022f3ca699e"
      },
      "execution_count": 10,
      "outputs": [
        {
          "output_type": "stream",
          "name": "stdout",
          "text": [
            "\n",
            "15\n",
            "\n",
            "120\n"
          ]
        }
      ]
    },
    {
      "cell_type": "code",
      "source": [
        "def comp(score=0):\n",
        "    if score ==0:\n",
        "        return 0\n",
        "    elif score > 50:\n",
        "        return 2\n",
        "    else:\n",
        "        return 1\n",
        "\n",
        "grade = comp (40)\n",
        "print(\"Grade is\", grade,\"for\",40)\n",
        "\n",
        "grade = comp (80)\n",
        "print(\"Grade is\",grade,\"for\",80)\n",
        "\n",
        "grade = comp()\n",
        "print(\"Grade is\",grade,\"for no score\")"
      ],
      "metadata": {
        "colab": {
          "base_uri": "https://localhost:8080/"
        },
        "id": "uzDDIllBSXb_",
        "outputId": "1458e910-a2ee-4540-ccc4-ec43170fc58d"
      },
      "execution_count": 11,
      "outputs": [
        {
          "output_type": "stream",
          "name": "stdout",
          "text": [
            "Grade is 1 for 40\n",
            "Grade is 2 for 80\n",
            "Grade is 0 for no score\n"
          ]
        }
      ]
    },
    {
      "cell_type": "code",
      "source": [
        "def report(name,age,score):\n",
        "    print(name,score)\n",
        "\n",
        "report(age=10, name=\"Kim\",score=80)\n",
        "report(\"Kim\",10,80)"
      ],
      "metadata": {
        "colab": {
          "base_uri": "https://localhost:8080/"
        },
        "id": "Tc3-iWj5SYt2",
        "outputId": "a9b5c913-2657-45b9-95ba-2706e9e42007"
      },
      "execution_count": 12,
      "outputs": [
        {
          "output_type": "stream",
          "name": "stdout",
          "text": [
            "Kim 80\n",
            "Kim 80\n"
          ]
        }
      ]
    }
  ]
}